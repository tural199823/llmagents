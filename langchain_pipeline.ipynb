{
 "cells": [
  {
   "cell_type": "code",
   "execution_count": 5,
   "id": "2751e151",
   "metadata": {},
   "outputs": [],
   "source": [
    "from langchain.chat_models import init_chat_model\n",
    "from langchain_core.prompts import ChatPromptTemplate"
   ]
  },
  {
   "cell_type": "code",
   "execution_count": 3,
   "id": "61ce3a18",
   "metadata": {},
   "outputs": [],
   "source": [
    "model = init_chat_model(\"gemma3:1b\", model_provider=\"ollama\")"
   ]
  },
  {
   "cell_type": "code",
   "execution_count": 4,
   "id": "cb63f054",
   "metadata": {},
   "outputs": [
    {
     "data": {
      "text/plain": [
       "AIMessage(content='The most straightforward and natural translation of “Hello Germany!” in German is:\\n\\n**Hallo Deutschland!** \\n\\nYou can also say:\\n\\n*   **Guten Tag, Deutschland!** (More formal, used when greeting someone you don’t know well)\\n\\nBut “Hallo Deutschland!” is perfectly fine and commonly used. 😊', additional_kwargs={}, response_metadata={'model': 'gemma3:1b', 'created_at': '2025-05-04T16:31:01.1560051Z', 'done': True, 'done_reason': 'stop', 'total_duration': 3611240200, 'load_duration': 2105181300, 'prompt_eval_count': 24, 'prompt_eval_duration': 608101700, 'eval_count': 69, 'eval_duration': 852976900, 'model_name': 'gemma3:1b'}, id='run--f1c24e55-7800-461a-a084-aa5e6f08a566-0', usage_metadata={'input_tokens': 24, 'output_tokens': 69, 'total_tokens': 93})"
      ]
     },
     "execution_count": 4,
     "metadata": {},
     "output_type": "execute_result"
    }
   ],
   "source": [
    "messages = [\n",
    "    {\"role\": \"system\", \"content\": \"Translate the following from English into German\"},\n",
    "    {\"role\": \"user\", \"content\": \"Hello Germany!\"},\n",
    "]\n",
    "\n",
    "model.invoke(messages)"
   ]
  },
  {
   "cell_type": "code",
   "execution_count": 6,
   "id": "684aeb61",
   "metadata": {},
   "outputs": [],
   "source": [
    "system_template = \"Translate the following from English into {language}\"\n",
    "\n",
    "prompt_template = ChatPromptTemplate.from_messages(\n",
    "    [(\"system\", system_template), (\"user\", \"{text}\")]\n",
    ")"
   ]
  },
  {
   "cell_type": "code",
   "execution_count": 8,
   "id": "99c970d6",
   "metadata": {},
   "outputs": [
    {
     "data": {
      "text/plain": [
       "ChatPromptValue(messages=[SystemMessage(content='Translate the following from English into Italian', additional_kwargs={}, response_metadata={}), HumanMessage(content='Hello Italy!', additional_kwargs={}, response_metadata={})])"
      ]
     },
     "execution_count": 8,
     "metadata": {},
     "output_type": "execute_result"
    }
   ],
   "source": [
    "prompt = prompt_template.invoke({\"language\": \"Italian\", \"text\": \"Hello Italy!\"})\n",
    "\n",
    "prompt"
   ]
  },
  {
   "cell_type": "code",
   "execution_count": 9,
   "id": "ab7599e3",
   "metadata": {},
   "outputs": [
    {
     "name": "stdout",
     "output_type": "stream",
     "text": [
      "The most natural translation of \"Hello Italy!\" in Italian would be:\n",
      "\n",
      "**Ciao Italia!** \n",
      "\n",
      "It's a very common and friendly greeting.\n",
      "\n",
      "You could also say:\n",
      "\n",
      "*   **Salve Italia!** (More formal, but perfectly acceptable)\n",
      "\n",
      "So, **Ciao Italia!** is your best bet! 😊\n"
     ]
    }
   ],
   "source": [
    "response = model.invoke(prompt)\n",
    "print(response.content)"
   ]
  }
 ],
 "metadata": {
  "kernelspec": {
   "display_name": "Python 3",
   "language": "python",
   "name": "python3"
  },
  "language_info": {
   "codemirror_mode": {
    "name": "ipython",
    "version": 3
   },
   "file_extension": ".py",
   "mimetype": "text/x-python",
   "name": "python",
   "nbconvert_exporter": "python",
   "pygments_lexer": "ipython3",
   "version": "3.12.3"
  }
 },
 "nbformat": 4,
 "nbformat_minor": 5
}
