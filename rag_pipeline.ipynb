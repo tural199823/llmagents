{
 "cells": [
  {
   "cell_type": "code",
   "execution_count": 21,
   "id": "b1c383b5",
   "metadata": {},
   "outputs": [],
   "source": [
    "from ollama import chat\n",
    "from IPython.display import Markdown, display\n",
    "from ollama import embed\n",
    "import numpy as np"
   ]
  },
  {
   "cell_type": "code",
   "execution_count": 11,
   "id": "87bbd412",
   "metadata": {},
   "outputs": [],
   "source": [
    "festival_talks = [\n",
    "    \"🌿 The Next Nature: Designing with the Future in Mind — Explore how biomimicry, regenerative design, and synthetic biology are reshaping architecture, materials, and cities. Where does design end and nature begin?\",\n",
    "    \"🧠 Neural Frontiers: The Brain-Computer Interface Revolution — From thought-controlled devices to memory enhancement, dive into the fast-evolving world of brain tech — and the ethical mazes it brings.\",\n",
    "    \"🎨🤖 AI & the Soul of Art: Who Really Owns Creativity? — Artists, coders, and philosophers debate the rise of generative art. Can machines make meaning? And where does human intuition still reign supreme?\",\n",
    "    \"💼🚫 Post-Work: Imagining a Life Beyond Jobs — As automation reshapes labor, what comes next? UBI, digital nomadism, reputation economies — a candid discussion about freedom, purpose, and survival.\",\n",
    "    \"🪐 Planet B: Terraforming Ideas for Earth 2.0 — Science fiction meets climate urgency. This talk blends real research with wild speculation — from Mars domes to floating cities in the clouds of Venus.\",\n",
    "    \"🕶️🌐 Reality is Optional: The Rise of Immersive Worlds — VR, AR, XR — and whatever’s next. What happens when our digital spaces feel more real than reality itself? And who gets to write the rules?\",\n",
    "    \"🧬⏳ The Ethics of Immortality: Living Forever in a Mortal World — Cryonics, gene editing, mind uploading — tech is chasing eternal life. But what would it mean for love, loss, and the human condition?\",\n",
    "    \"💻⚖️ Code as Culture: Programming the Future We Want — Code is not neutral — it shapes societies. This talk explores how developers are becoming the new lawmakers, and how we hold them accountable.\",\n",
    "    \"🕸️🛠️ The Wild Web: Reclaiming the Internet from Algorithms — Can we rebuild the web for people, not profit? Meet the rebels, hackers, and dreamers creating decentralized, community-first digital spaces.\",\n",
    "    \"🕰️🚀 Time Travelers Welcome: Building the Long Now — Futurists, historians, and deep-time thinkers gather to explore projects that think in centuries — from 10,000-year clocks to interstellar archives.\"\n",
    "]"
   ]
  },
  {
   "cell_type": "code",
   "execution_count": 34,
   "id": "58637428",
   "metadata": {},
   "outputs": [],
   "source": [
    "response = embed(model='nomic-embed-text', input=festival_talks)\n",
    "embedding = response['embeddings']"
   ]
  },
  {
   "cell_type": "code",
   "execution_count": 35,
   "id": "1216288c",
   "metadata": {},
   "outputs": [
    {
     "name": "stdout",
     "output_type": "stream",
     "text": [
      "Closest vector index: 2\n",
      "Distance: 0.8336308411111406\n",
      "Sorted indices by distance: [2 1 4 3 7 5 9 8 0 6]\n"
     ]
    }
   ],
   "source": [
    "vectors = np.array(embedding)\n",
    "\n",
    "query = np.array(embed(model='nomic-embed-text', input='I am interested in AI talks')['embeddings'])\n",
    "\n",
    "# Compute Euclidean distances\n",
    "differences = vectors - query  # shape: (n_vectors, vector_dim)\n",
    "distances = np.linalg.norm(differences, axis=1)\n",
    "\n",
    "# Index of closest vector\n",
    "closest_index = np.argmin(distances)\n",
    "\n",
    "# Sorted indices by distance\n",
    "sorted_indices = np.argsort(distances)\n",
    "\n",
    "print(\"Closest vector index:\", closest_index)\n",
    "print(\"Distance:\", distances[closest_index])\n",
    "print(\"Sorted indices by distance:\", sorted_indices)"
   ]
  },
  {
   "cell_type": "code",
   "execution_count": 38,
   "id": "9face25f",
   "metadata": {},
   "outputs": [],
   "source": [
    "sorted_festival_talks = [festival_talks[i] for i in sorted_indices]\n",
    "retrieved_festival_talks = sorted_festival_talks[:3]"
   ]
  },
  {
   "cell_type": "code",
   "execution_count": 39,
   "id": "a72b8273",
   "metadata": {},
   "outputs": [],
   "source": [
    "retrieved_content = '\\n\\n'.join(retrieved_festival_talks)"
   ]
  },
  {
   "cell_type": "code",
   "execution_count": 40,
   "id": "721b4fa7",
   "metadata": {},
   "outputs": [
    {
     "data": {
      "text/plain": [
       "'🎨🤖 AI & the Soul of Art: Who Really Owns Creativity? — Artists, coders, and philosophers debate the rise of generative art. Can machines make meaning? And where does human intuition still reign supreme?\\n\\n🧠 Neural Frontiers: The Brain-Computer Interface Revolution — From thought-controlled devices to memory enhancement, dive into the fast-evolving world of brain tech — and the ethical mazes it brings.\\n\\n🪐 Planet B: Terraforming Ideas for Earth 2.0 — Science fiction meets climate urgency. This talk blends real research with wild speculation — from Mars domes to floating cities in the clouds of Venus.'"
      ]
     },
     "execution_count": 40,
     "metadata": {},
     "output_type": "execute_result"
    }
   ],
   "source": [
    "retrieved_content"
   ]
  },
  {
   "cell_type": "code",
   "execution_count": null,
   "id": "9d8a1764",
   "metadata": {},
   "outputs": [
    {
     "data": {
      "text/markdown": [
       "Okay, based on the retrieved festival talks, here's a breakdown of what kind of AI talks might be available, framed as a potential festival program:\n",
       "\n",
       "**Core Themes & Potential Talk Topics:**\n",
       "\n",
       "* **Generative Art & AI:** This is a prominent theme with several potential talks.  Given the \"🎨🤖 AI & the Soul of Art\" talk, expect discussions around:\n",
       "    * **Meaning & Authorship:**  How does AI create art? Does it truly \"own\" creativity, or is it a collaboration?\n",
       "    * **The Role of the Artist:** Are artists still needed, or can AI become a creative partner?\n",
       "    * **Style & Innovation:** How does AI influence artistic styles and generate novel creations?\n",
       "* **Brain Tech & AI:** This talk likely covers:\n",
       "    * **Brain-Computer Interfaces (BCIs):** Exploring the potential and challenges of connecting minds to computers. \n",
       "    * **Memory Enhancement:**  Could AI improve memory or cognition?\n",
       "    * **Ethical Implications of Brain Tech:** Concerns around privacy, control, and potential misuse.\n",
       "* **Climate Change & Terraforming:** This talk suggests a focus on the intersection of AI and environmental concerns, with a speculative element.  Potential topics include:\n",
       "    * **AI-Driven Climate Modeling:** How AI can help predict and mitigate climate change.\n",
       "    * **Terraforming Concepts:** Exploring futuristic ideas like creating self-sustaining ecosystems on other planets.\n",
       "\n",
       "**Overall Festival Tone:**\n",
       "\n",
       "The talks seem to be leaning towards a blend of:\n",
       "\n",
       "* **Technical:**  Focused on the technical aspects of AI and brain tech.\n",
       "* **Philosophical:**  Exploring the deeper implications and value of AI.\n",
       "* **Futuristic & Speculative:**  Incorporating ideas about the future and potential breakthroughs.\n",
       "\n",
       "\n",
       "To help me refine this further, could you tell me:\n",
       "\n",
       "*   **What's the overall tone of the festival?** (e.g., serious, playful, optimistic, cautionary?)\n",
       "*   **Are there any specific areas of AI you're most interested in?** (e.g., image generation, natural language processing, robotics?)"
      ],
      "text/plain": [
       "<IPython.core.display.Markdown object>"
      ]
     },
     "metadata": {},
     "output_type": "display_data"
    }
   ],
   "source": [
    "retrieved_content = '\\n\\n'.join(retrieved_festival_talks)\n",
    "\n",
    "chat_response = chat(model='gemma3:1b', messages=[\n",
    "    {\n",
    "    'role': 'user',\n",
    "    'content': 'User Question:\\nI am interested in AI talks\\n\\n' + 'Answer the user question on festival talks as best as you can based on the retrieved festival talks\\n\\nRetrieved content:\\n\\n' + retrieved_content,\n",
    "    },\n",
    "])\n",
    "\n",
    "display(Markdown(chat_response.message.content))\n"
   ]
  }
 ],
 "metadata": {
  "kernelspec": {
   "display_name": "Python 3",
   "language": "python",
   "name": "python3"
  },
  "language_info": {
   "codemirror_mode": {
    "name": "ipython",
    "version": 3
   },
   "file_extension": ".py",
   "mimetype": "text/x-python",
   "name": "python",
   "nbconvert_exporter": "python",
   "pygments_lexer": "ipython3",
   "version": "3.12.3"
  }
 },
 "nbformat": 4,
 "nbformat_minor": 5
}
